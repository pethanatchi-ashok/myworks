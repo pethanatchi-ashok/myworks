{
 "cells": [
  {
   "cell_type": "code",
   "execution_count": null,
   "id": "f5741bb3",
   "metadata": {},
   "outputs": [],
   "source": [
    "1. In the below elements which of them are values or an expression? eg:- values can be\n",
    "integer or string and expressions will be mathematical operators.\n",
    "*  --> Expression\n",
    "'hello' --> value\n",
    "-87.8 --> value\n",
    "- --> Expression\n",
    "/ --> Expression\n",
    "+ --> Expression\n",
    "6 --> value"
   ]
  },
  {
   "cell_type": "code",
   "execution_count": null,
   "id": "ce5cbd47",
   "metadata": {},
   "outputs": [],
   "source": [
    "2. What is the difference between string and variable?\n",
    "Variable\n",
    "--------\n",
    "A variable is a reserved memory location to store values. \n",
    "Its a name of the location in computer's primary memory.\n",
    "It can store any values(strings, intergers).\n",
    "\n",
    "String\n",
    "------\n",
    "Strings are sequences of characters.\n",
    "A string is the values inside the quotes assigned to a string.\n",
    "Strings in python are surrounded by either single quotation marks, or double quotation marks.\n",
    "'hello' is the same as \"hello\"."
   ]
  },
  {
   "cell_type": "code",
   "execution_count": null,
   "id": "8b9ee8a6",
   "metadata": {},
   "outputs": [],
   "source": [
    "3. Describe three different data types.\n",
    "1)Numeric\n",
    "---------\n",
    "Numeric data type represent the data which has numeric value. Numeric value can be integer, floating number or even complex numbers. These values are defined as int, float and complex class in Python.\n",
    "*Integers – Represented by int class. It contains positive or negative whole numbers (without fraction or decimal). In Python there is no limit to how long an integer value can be.\n",
    "*Float – Represented by float class. It is a real number with floating point representation. It is specified by a decimal point. Optionally, the character e or E followed by a positive or negative integer may be appended to specify scientific notation.\n",
    "*Complex Numbers – Represented by complex class. It is specified as (real part) + (imaginary part)j. In Python, imaginary part notation is j.For example – 2+3j\n",
    "\n",
    "2)String\n",
    "--------\n",
    "Strings are arrays of bytes representing Unicode characters. A string is a collection of one or more characters put in a single quote, double-quote or triple quote. In python there is no character data type, a character is a string of length one. It is represented by str class.\n",
    "Strings in Python can be created using single quotes or double quotes or even triple quotes.\n",
    "Eg : \n",
    "\tstr1 = \"Pethanatchi\"\n",
    "\n",
    "3)List\n",
    "------\n",
    "Lists are just like the arrays, declared in other languages which is a ordered collection of data. It is very flexible as the items in a list do not need to be of the same type.\n",
    "To access the list items refer to the index number. Use the index operator [ ] to access an item in a list. In Python, negative sequence indexes represent positions from the end of the array. Instead of having to compute the offset as in List[len(List)-3], it is enough to just write List[-3]. Negative indexing means beginning from the end, -1 refers to the last item, -2 refers to the second-last item, etc.\n",
    "Eg :\n",
    "\tlist1=[\"Peth\",123,4.5,True]\n",
    "    \n",
    "4)Tuple\n",
    "-------\n",
    "Tuple is also an ordered collection of Python objects. The only difference between tuple and list is that tuples are immutable i.e. tuples cannot be modified after it is created. It is represented by tuple class.\n",
    "Tuples are created by placing a sequence of values separated by ‘comma’ with or without the use of parentheses for grouping of the data sequence. Tuples can contain any number of elements and of any datatype (like strings, integers, list, etc.).\n",
    "Eg :\n",
    "\ttuple1=(123,\"Pethu\",8+5j,False)"
   ]
  },
  {
   "cell_type": "code",
   "execution_count": null,
   "id": "e61dc88a",
   "metadata": {},
   "outputs": [],
   "source": [
    "4. What is an expression made up of? What do all expressions do?\n",
    "*An expression is made of operators and operands.\n",
    "*Expression is interpreted to produce some other value.\n",
    "*An expression is evaluated as per the precedence of its operators. So that if there is more than one operator in an expression, their precedence decides which operation will be performed first.\n",
    "*To get the result of an expression if there is only one operator in an expression is easy. But if there is more than one operator in an expression, it may give different results on basis of the order of operators executed. To sort out these confusions, the operator precedence is defined. \n",
    "*Operator Precedence simply defines the priority of operators that which operator is to be executed first."
   ]
  },
  {
   "cell_type": "code",
   "execution_count": null,
   "id": "4f95f861",
   "metadata": {},
   "outputs": [],
   "source": [
    "5. This assignment statements, like spam = 10. What is the difference between an\n",
    "expression and a statement?\n",
    "Expression\n",
    "-----------\n",
    "*The evaluation of a statement does not changes state.\n",
    "*Example:\n",
    "spam=10\n",
    "spam+10 //Expression\n",
    "print(spam)\n",
    "\n",
    "Output:\n",
    "20\n",
    "10 // Value of spam not changed after expression\n",
    "\n",
    "*Evaluation of an expression always Produces or returns a result value.\n",
    "*Every expression can’t be a statement.\n",
    "\n",
    "Statement\n",
    "---------\n",
    "*The execution of a statement changes state.\n",
    "*Example:\n",
    "spam=1\n",
    "spam=10\n",
    "print(spam)\n",
    "\n",
    "Output:\n",
    "10 // Value of spam changed after assignment statement\n",
    "\n",
    "*Execution of a statement may or may not produces or displays a result value, it only does whatever the statement says.\n",
    "*Every statement can be an expression."
   ]
  },
  {
   "cell_type": "code",
   "execution_count": null,
   "id": "d56fc3dc",
   "metadata": {},
   "outputs": [],
   "source": [
    "6. After running the following code, what does the variable bacon contain?\n",
    "bacon = 22\n",
    "bacon + 1\n",
    "print(\"bacon =\",bacon)\n",
    "Output:\n",
    "bacon = 22\n",
    "\n",
    "The variable bacon contain the value 22\n",
    "Without an assignment statement, the value of bacon wont get updated."
   ]
  },
  {
   "cell_type": "code",
   "execution_count": null,
   "id": "f3d471d3",
   "metadata": {},
   "outputs": [],
   "source": [
    "7. What should the values of the following two terms be?\n",
    "'spam'+'spamspam'\n",
    "Output:\n",
    "'spamspamspam'\n",
    "\n",
    "'spam'*3\n",
    "Output:\n",
    "'spamspamspam'"
   ]
  },
  {
   "cell_type": "code",
   "execution_count": null,
   "id": "c8d1c0cd",
   "metadata": {},
   "outputs": [],
   "source": [
    "8. Why is eggs a valid variable name while 100 is invalid?\n",
    "\n",
    "100 is a invalid variable name, since variable names can't begin with a number."
   ]
  },
  {
   "cell_type": "code",
   "execution_count": null,
   "id": "7f637bc0",
   "metadata": {},
   "outputs": [],
   "source": [
    "9. What three functions can be used to get the integer, floating-point number, or string\n",
    "version of a value?\n",
    "\n",
    "int() function can be used to get the integer version of a value.\n",
    "float() function can be used to get the floating-point version of a value.\n",
    "str() function can be used to get the string version of a value."
   ]
  },
  {
   "cell_type": "code",
   "execution_count": null,
   "id": "6bb54515",
   "metadata": {},
   "outputs": [],
   "source": [
    "10. Why does this expression cause an error? How can you fix it?\n",
    "'I have eaten'+99+'burritos.'\n",
    "\n",
    "Error:\n",
    "---------------------------------------------------------------------------\n",
    "TypeError                                 Traceback (most recent call last)\n",
    "~\\AppData\\Local\\Temp/ipykernel_12712/4259877183.py in <module>\n",
    "----> 1 'I have eaten'+99+'burritos.'\n",
    "\n",
    "TypeError: can only concatenate str (not \"int\") to str\n",
    "    \n",
    "\n",
    "To fix:\n",
    "We can't concatenate string with integer, concatenation can be done only string to string.\n",
    "If we need to concatenate str with int, we need to typecast int to str like str(int) --> str(99)\n",
    "This expression will work without any issue if we wrote like below,\n",
    "'I have eaten'+str(99)+'burritos.'\n",
    "Output:\n",
    "'I have eaten99burritos.'"
   ]
  }
 ],
 "metadata": {
  "kernelspec": {
   "display_name": "Python 3 (ipykernel)",
   "language": "python",
   "name": "python3"
  },
  "language_info": {
   "codemirror_mode": {
    "name": "ipython",
    "version": 3
   },
   "file_extension": ".py",
   "mimetype": "text/x-python",
   "name": "python",
   "nbconvert_exporter": "python",
   "pygments_lexer": "ipython3",
   "version": "3.9.7"
  }
 },
 "nbformat": 4,
 "nbformat_minor": 5
}
