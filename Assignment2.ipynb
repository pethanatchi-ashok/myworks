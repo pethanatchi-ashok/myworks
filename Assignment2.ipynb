{
 "cells": [
  {
   "cell_type": "raw",
   "id": "fa89ca76",
   "metadata": {},
   "source": [
    "1.What are the two values of the Boolean data type? How do you write them?\n",
    "\n",
    "*Two values of the Boolean data type is True, False.\n",
    "*<class ‘bool’> indicates the variable is a boolean data type.\n",
    "*Using bool() function, we can return or convert a value to boolean value.\n",
    "\n",
    "Eg:\n",
    "a=10\n",
    "b=5\n",
    "bool(a>b)\n",
    "\n",
    "Output:\n",
    "True"
   ]
  },
  {
   "cell_type": "raw",
   "id": "0c99f9be",
   "metadata": {},
   "source": [
    "2. What are the three different types of Boolean operators?\n",
    "\n",
    "Three different types of Boolean operators are:\n",
    "    *and\n",
    "    *or\n",
    "    *not"
   ]
  },
  {
   "cell_type": "raw",
   "id": "c51e196c",
   "metadata": {},
   "source": [
    "3. Make a list of each Boolean operator's truth tables (i.e. every possible combination of Boolean\n",
    "values for the operator and what it evaluate ).\n",
    "\n",
    "AND Truth Table\n",
    "---------------\n",
    " x\t    and\t y\t   Returns\n",
    " \n",
    "TRUE\tand\tTRUE\tTRUE\n",
    "TRUE\tand\tFALSE\tFALSE\n",
    "FALSE\tand\tTRUE\tFALSE\n",
    "FALSE\tand\tFALSE\tFALSE\n",
    "\n",
    "\n",
    "OR Truth Table\n",
    "--------------\n",
    " x\t    or\t y\t  Returns\n",
    " \n",
    "True\tor\tTrue\tTrue\n",
    "True\tor\tFalse\tTrue\n",
    "False\tor\tTrue\tTrue\n",
    "False\tor\tFalse\tFalse\n",
    "\n",
    "NOT Truth Table\n",
    "---------------\n",
    "not\t x\t   Returns\n",
    "\n",
    "not\tTrue\tFalse\n",
    "not\tFalse\tTrue"
   ]
  },
  {
   "cell_type": "raw",
   "id": "0ee3ca69",
   "metadata": {},
   "source": [
    "4. What are the values of the following expressions?\n",
    "\n",
    "(5 > 4) and (3 == 5) --> False\n",
    "not (5 > 4) --> False\n",
    "(5 > 4) or (3 == 5) --> True\n",
    "not ((5 > 4) or (3 == 5)) --> False\n",
    "(True and True) and (True == False) --> False\n",
    "(not False) or (not True) --> True"
   ]
  },
  {
   "cell_type": "raw",
   "id": "31c2d77f",
   "metadata": {},
   "source": [
    "5. What are the six comparison operators?\n",
    "\n",
    "Six comparison operators are:\n",
    "*Less than(<)\n",
    "*Greater than(>)\n",
    "*Less than or equal to(<=)\n",
    "*Greater than or equal to(>=)\n",
    "*Equal to(==)\n",
    "*Not equal to (!=)"
   ]
  },
  {
   "cell_type": "raw",
   "id": "15202c88",
   "metadata": {},
   "source": [
    "6. How do you tell the difference between the equal to and assignment operators?Describe a\n",
    "condition and when you would use one.\n",
    "\n",
    "Assignment operator\n",
    "-------------------\n",
    "Assignment operators are used to perform operations on values and variables. These are the special symbols that carry out arithmetic, logical, bitwise computations.Assignment operator(=) is used to assign the value on the right to the variable on the left.\n",
    "\n",
    "Operator: =\n",
    "Description : Assigns values from right side operands to left side operand\n",
    "Eg : c = a + b assigns value of a + b into c\n",
    "\n",
    "Other assignment operators are : \n",
    "+= Add AND, -= Subtract AND, *= Multiply AND, /= Divide AND, %= Modulus AND, **= Exponent AND, //= Floor Division\n",
    "\n",
    "=\n",
    "It is an assignment operator.\n",
    "It is used for assigning the value to a variable.\n",
    "Constant term cannot be placed on left hand side.\n",
    "Example: 1=x; is invalid.\n",
    "\n",
    "equal to Operator\n",
    "-----------------\n",
    "The equal to operator(‘==’) is used to check whether the two given operands are equal or not. If so, it returns true. Otherwise it returns false.\n",
    "\n",
    "Eg : \n",
    "\n",
    "a=5\n",
    "b=3\n",
    "print(a==b)\n",
    "\n",
    "Output:\n",
    "False\n",
    "\n",
    "==\n",
    "It is a relational or comparison operator.\n",
    "It is used for comparing two values. It returns 1 if both the values are equal otherwise returns 0.\n",
    "Constant term can be placed in the left hand side.\n",
    "Example: 1==1 is valid and returns 1."
   ]
  },
  {
   "cell_type": "code",
   "execution_count": null,
   "id": "e73a44df",
   "metadata": {},
   "outputs": [],
   "source": [
    "7. Identify the three blocks in this code:\n",
    "\n",
    "spam = 0\n",
    "if spam==10:    // Block1\n",
    "    print('eggs')\n",
    "    if spam>5:  //Block2\n",
    "        print('bacon')\n",
    "    else:       //Block3\n",
    "        print('ham')\n",
    "        print('spam')\n",
    "        print('spam')\n",
    "        \n",
    "Block1\n",
    "------\n",
    "if spam==10:    \n",
    "    print('eggs')\n",
    "    if spam>5:  \n",
    "        print('bacon')\n",
    "    else:      \n",
    "        print('ham')\n",
    "        print('spam')\n",
    "        print('spam')\n",
    "        \n",
    "Block2\n",
    "------\n",
    "    if spam>5:  \n",
    "        print('bacon')\n",
    "        \n",
    "Block3\n",
    "------\n",
    "    else:      \n",
    "        print('ham')\n",
    "        print('spam')\n",
    "        print('spam')"
   ]
  },
  {
   "cell_type": "code",
   "execution_count": 3,
   "id": "42e1b776",
   "metadata": {},
   "outputs": [
    {
     "name": "stdout",
     "output_type": "stream",
     "text": [
      "Howdy\n"
     ]
    }
   ],
   "source": [
    "#8. Write code that prints Hello if 1 is stored in spam, prints Howdy if 2 is stored in spam, and prints\n",
    "#Greetings! if anything else is stored in spam.\n",
    "\n",
    "spam=2\n",
    "if spam==1:\n",
    "    print(\"Hello\")\n",
    "elif spam==2:\n",
    "    print(\"Howdy\")\n",
    "else:\n",
    "    print(\"Greetings!\")"
   ]
  },
  {
   "cell_type": "raw",
   "id": "dd99d765",
   "metadata": {},
   "source": [
    "9.If your programme is stuck in an endless loop, what keys you’ll press?\n",
    "\n",
    "We can stop an endless loop with CTRL + C"
   ]
  },
  {
   "cell_type": "raw",
   "id": "1b0103e6",
   "metadata": {},
   "source": [
    "10. How can you tell the difference between break and continue?\n",
    "\n",
    "*Break statement mainly used to terminate the enclosing loop such as while, do-while, for or switch statement wherever break is declared. \n",
    "*Continue statement skip the rest of loop wherever continue is declared and execute the next iteration."
   ]
  },
  {
   "cell_type": "raw",
   "id": "f33f9580",
   "metadata": {},
   "source": [
    "11.In a for loop, what is the difference between range(10), range(0, 10), and range(0, 10, 1)?\n",
    "\n",
    "In for loop,\n",
    "range(10) --> Provide range of numbers upto 10(excluding upper bound-10)\n",
    "range(0,10) --> Provides range of numbers between 0 and 10\n",
    "range(0,10,1) --> Provides range of numbers between 0 and 10 with step 1\n",
    "All three will provide same output.\n",
    "\n",
    "for i in range(10):\n",
    "    print(i, end=\"\")\n",
    "Output:\n",
    "0123456789\n",
    "\n",
    "for i in range(0,10):\n",
    "    print(i, end=\"\")\n",
    "Output:\n",
    "0123456789\n",
    "\n",
    "for i in range(0,10,1):\n",
    "    print(i, end=\"\")\n",
    "Output:\n",
    "0123456789"
   ]
  },
  {
   "cell_type": "code",
   "execution_count": 10,
   "id": "c5ae68ff",
   "metadata": {},
   "outputs": [
    {
     "name": "stdout",
     "output_type": "stream",
     "text": [
      "12345678910"
     ]
    }
   ],
   "source": [
    "#12. Write a short program that prints the numbers 1 to 10 using a for loop. Then write an equivalent\n",
    "#program that prints the numbers 1 to 10 using a while loop.\n",
    "\n",
    "#Using for loop\n",
    "for i in range(1,11):\n",
    "    print(i, end=\"\")"
   ]
  },
  {
   "cell_type": "code",
   "execution_count": 9,
   "id": "5bb0ca2d",
   "metadata": {},
   "outputs": [
    {
     "name": "stdout",
     "output_type": "stream",
     "text": [
      "12345678910"
     ]
    }
   ],
   "source": [
    "#Using while loop\n",
    "i=1\n",
    "while i <= 10:\n",
    "    print(i, end=\"\")\n",
    "    i=i+1"
   ]
  },
  {
   "cell_type": "raw",
   "id": "e4d212e6",
   "metadata": {},
   "source": [
    "13. If you had a function named bacon() inside a module named spam, how would you call it after\n",
    "importing spam?\n",
    "\n",
    "import spam\n",
    "spam.bacon()"
   ]
  }
 ],
 "metadata": {
  "kernelspec": {
   "display_name": "Python 3 (ipykernel)",
   "language": "python",
   "name": "python3"
  },
  "language_info": {
   "codemirror_mode": {
    "name": "ipython",
    "version": 3
   },
   "file_extension": ".py",
   "mimetype": "text/x-python",
   "name": "python",
   "nbconvert_exporter": "python",
   "pygments_lexer": "ipython3",
   "version": "3.9.7"
  }
 },
 "nbformat": 4,
 "nbformat_minor": 5
}
