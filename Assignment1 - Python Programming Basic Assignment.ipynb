{
 "cells": [
  {
   "cell_type": "code",
   "execution_count": 3,
   "id": "7b3482b4",
   "metadata": {},
   "outputs": [
    {
     "name": "stdout",
     "output_type": "stream",
     "text": [
      "Hello Python\n"
     ]
    }
   ],
   "source": [
    "#1. Write a Python program to print \"Hello Python\"?\n",
    "\n",
    "str1=\"Hello Python\"\n",
    "print(str1)"
   ]
  },
  {
   "cell_type": "code",
   "execution_count": 9,
   "id": "987cfc48",
   "metadata": {},
   "outputs": [
    {
     "name": "stdout",
     "output_type": "stream",
     "text": [
      "Addition of two numbers : 50\n",
      "Division of two numbers : 0.6666666666666666\n"
     ]
    }
   ],
   "source": [
    "#2. Write a Python program to do arithmetical operations addition and division.?\n",
    "\n",
    "a=20\n",
    "b=30\n",
    "c=a+b\n",
    "d=a/b\n",
    "print(\"Addition of two numbers :\", c)\n",
    "print(\"Division of two numbers :\",d)"
   ]
  },
  {
   "cell_type": "code",
   "execution_count": 16,
   "id": "d75fd0c1",
   "metadata": {},
   "outputs": [
    {
     "name": "stdout",
     "output_type": "stream",
     "text": [
      "Enter Base of triangle 2\n",
      "Enter height of triangle 4\n",
      "Area of triangle : 4.0\n"
     ]
    }
   ],
   "source": [
    "#3. Write a Python program to find the area of a triangle?\n",
    "\n",
    "a=input(\"Enter Base of triangle \")\n",
    "b=input(\"Enter height of triangle \")\n",
    "c=(int(a)*int(b))/2\n",
    "print(\"Area of triangle :\",c)"
   ]
  },
  {
   "cell_type": "code",
   "execution_count": 23,
   "id": "6c875258",
   "metadata": {},
   "outputs": [
    {
     "name": "stdout",
     "output_type": "stream",
     "text": [
      "Enter value of a :10\n",
      "Enter value of b :20\n",
      "Before swap\n",
      "Value of a before swapping : 10\n",
      "Value of b before swapping : 20\n",
      "\n",
      "After swap\n",
      "Value of a after swapping : 20\n",
      "Value of b after swapping : 10\n"
     ]
    }
   ],
   "source": [
    "#4. Write a Python program to swap two variables?\n",
    "\n",
    "a=input(\"Enter value of a :\")\n",
    "b=input(\"Enter value of b :\")\n",
    "print(\"Before swap\")\n",
    "print(\"Value of a before swapping :\", a)\n",
    "print(\"Value of b before swapping :\", b)\n",
    "#Swapping\n",
    "temp=a #Creating temporary variable temp and swapping the value\n",
    "a=b\n",
    "b=temp\n",
    "print(\"\\nAfter swap\")\n",
    "print(\"Value of a after swapping :\",a)\n",
    "print(\"Value of b after swapping :\",b)"
   ]
  },
  {
   "cell_type": "code",
   "execution_count": 28,
   "id": "c501f9df",
   "metadata": {},
   "outputs": [
    {
     "name": "stdout",
     "output_type": "stream",
     "text": [
      "Random number is : 32\n"
     ]
    }
   ],
   "source": [
    "#5. Write a Python program to generate a random number?\n",
    "\n",
    "#Importing random module\n",
    "import random\n",
    "a=random.randint(0,100)\n",
    "print(\"Random number is :\",a)"
   ]
  },
  {
   "cell_type": "code",
   "execution_count": null,
   "id": "36318c93",
   "metadata": {},
   "outputs": [],
   "source": []
  }
 ],
 "metadata": {
  "kernelspec": {
   "display_name": "Python 3 (ipykernel)",
   "language": "python",
   "name": "python3"
  },
  "language_info": {
   "codemirror_mode": {
    "name": "ipython",
    "version": 3
   },
   "file_extension": ".py",
   "mimetype": "text/x-python",
   "name": "python",
   "nbconvert_exporter": "python",
   "pygments_lexer": "ipython3",
   "version": "3.9.7"
  }
 },
 "nbformat": 4,
 "nbformat_minor": 5
}
